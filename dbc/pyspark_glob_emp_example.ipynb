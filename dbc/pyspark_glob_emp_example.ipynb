{
 "cells": [
  {
   "cell_type": "code",
   "execution_count": 15,
   "id": "ccacaee2-8d8d-4065-9159-eff563b839b0",
   "metadata": {},
   "outputs": [
    {
     "name": "stdout",
     "output_type": "stream",
     "text": [
      "Current working directory: /home/jrob/proj_de_scala_training/notebooks\n",
      "/home/jrob/proj_de_scala_training/input/hired_employees__1___1_.csv\n"
     ]
    }
   ],
   "source": [
    "import os\n",
    "import pandas as pd\n",
    "\n",
    "# Get current working directory (where your notebook runs)\n",
    "cwd = os.getcwd()\n",
    "print(\"Current working directory:\", cwd)\n",
    "\n",
    "# Build full paths to each file\n",
    "input_folder = os.path.join(cwd, \"input\")\n",
    "\n",
    "file_emps = os.path.join(input_folder, \"hired_employees__1___1_.csv\").replace(\"/notebooks\",\"\")\n",
    "file_jobs = os.path.join(input_folder, \"jobs__1__1.csv\").replace(\"/notebooks\",\"\")\n",
    "file_deps = os.path.join(input_folder, \"departments__1___1_.csv\").replace(\"/notebooks\",\"\")\n",
    "\n",
    "# proj_de_scala_training/input/departments__1___1_.csv\n",
    "# proj_de_scala_training/input/hired_employees__1___1_.csv\n",
    "# proj_de_scala_training/input/jobs__1__1.csv\n",
    "print(file_emps)\n"
   ]
  },
  {
   "cell_type": "code",
   "execution_count": 19,
   "id": "d700d878-24eb-41c0-9e20-daeafa42d304",
   "metadata": {},
   "outputs": [
    {
     "name": "stdout",
     "output_type": "stream",
     "text": [
      "   emp_id     emp_name             hire_date  dept_id  job_id\n",
      "0       1  Harold Vogt  2021-11-07T02:48:42Z      2.0    96.0\n",
      "1       2     Ty Hofer  2021-05-30T05:43:46Z      8.0     NaN\n",
      "2       3  Lyman Hadye  2021-09-01T23:27:38Z      5.0    52.0\n",
      "   job_id            job_title\n",
      "0       1  Marketing Assistant\n",
      "1       2             VP Sales\n",
      "2       3   Biostatistician IV\n",
      "   dept_id                 dept_name\n",
      "0        1        Product Management\n",
      "1        2                     Sales\n",
      "2        3  Research and Development\n"
     ]
    }
   ],
   "source": [
    "import pandas as pd\n",
    "from pathlib import Path\n",
    "\n",
    "# Step 1: Load the CSV files\n",
    "df_emps = pd.read_csv(file_emps, header=None,\n",
    "                      names=[\"emp_id\", \"emp_name\", \"hire_date\", \"dept_id\", \"job_id\"])\n",
    "\n",
    "df_deps = pd.read_csv(file_deps, header=None, names=[\"dept_id\", \"dept_name\"])\n",
    "\n",
    "df_jobs = pd.read_csv(file_jobs, header=None, names=[\"job_id\", \"job_title\"])\n",
    "\n",
    "\n",
    "print(df_emps.head(3))\n",
    "print(df_jobs.head(3))\n",
    "print(df_deps.head(3))\n"
   ]
  },
  {
   "cell_type": "code",
   "execution_count": 23,
   "id": "cd0f9907-f923-4ab9-be56-8745a04bf9e0",
   "metadata": {},
   "outputs": [
    {
     "name": "stdout",
     "output_type": "stream",
     "text": [
      "   emp_id     emp_name             hire_date  dept_id  job_id  \\\n",
      "0       1  Harold Vogt  2021-11-07T02:48:42Z      2.0    96.0   \n",
      "1       2     Ty Hofer  2021-05-30T05:43:46Z      8.0     NaN   \n",
      "2       3  Lyman Hadye  2021-09-01T23:27:38Z      5.0    52.0   \n",
      "\n",
      "                      job_title    dept_name  \n",
      "0              Health Coach III        Sales  \n",
      "1                           NaN      Support  \n",
      "2  Structural Analysis Engineer  Engineering  \n"
     ]
    }
   ],
   "source": [
    "# Step 2: Merge employee data with jobs and departments\n",
    "df_merged = df_emps.merge(df_jobs, on=\"job_id\", how=\"left\") \\\n",
    "                   .merge(df_deps, on=\"dept_id\", how=\"left\")\n",
    "\n",
    "print(df_merged.head(3))\n"
   ]
  },
  {
   "cell_type": "code",
   "execution_count": 24,
   "id": "e20743f5-26ca-4a8c-9fe8-e807aae49d4d",
   "metadata": {},
   "outputs": [],
   "source": [
    "# Step 3: Cleanup missing values\n",
    "df_merged['job_id'] = df_merged['job_id'].fillna(0).astype(int)\n",
    "df_merged['dept_id'] = df_merged['dept_id'].fillna(0).astype(int)\n",
    "df_merged['job_title'] = df_merged['job_title'].fillna(\"Not Found\")\n",
    "df_merged['dept_name'] = df_merged['dept_name'].fillna(\"Not Found\")\n",
    "df_merged['hire_date'] = df_merged['hire_date'].fillna(\"1900-01-01\")"
   ]
  },
  {
   "cell_type": "code",
   "execution_count": 25,
   "id": "36816969-dc1f-4a7d-a20b-ed566d332cbd",
   "metadata": {},
   "outputs": [],
   "source": [
    "# Step 4: Wrangling hire_date to datetime and extract year\n",
    "df_merged['hire_date'] = pd.to_datetime(df_merged['hire_date'], errors='coerce')\n",
    "df_merged['hire_year'] = df_merged['hire_date'].dt.year\n"
   ]
  },
  {
   "cell_type": "code",
   "execution_count": 29,
   "id": "14d209d7-044e-4a14-b047-bf667d214489",
   "metadata": {},
   "outputs": [
    {
     "name": "stdout",
     "output_type": "stream",
     "text": [
      "   dept_id             dept_name  total_hired\n",
      "8        8               Support          221\n",
      "5        5           Engineering          208\n",
      "6        6       Human Resources          204\n",
      "7        7              Services          204\n",
      "4        4  Business Development          187\n"
     ]
    }
   ],
   "source": [
    "# Step 5: Group by department and list those cases above the mean\n",
    "\n",
    "df_2021 = df_merged[df_merged['hire_year'] == 2021]\n",
    "\n",
    "dept_hire_counts = df_2021.groupby(['dept_id', 'dept_name'])['emp_id'].count().reset_index()\n",
    "dept_hire_counts.rename(columns={'emp_id': 'total_hired'}, inplace=True)\n",
    "\n",
    "# Step 6 Filter departments above the average\n",
    "mean_hired = dept_hire_counts['total_hired'].mean()\n",
    "df_above_avg = dept_hire_counts[dept_hire_counts['total_hired'] > mean_hired]\n",
    "\n",
    "df_above_avg_sorted = df_above_avg.sort_values(by='total_hired', ascending=False)\n",
    "print(df_above_avg_sorted.head(5))"
   ]
  },
  {
   "cell_type": "code",
   "execution_count": 31,
   "id": "dbde74ff-e569-4574-a0a8-3ea2ac715b52",
   "metadata": {},
   "outputs": [
    {
     "name": "stdout",
     "output_type": "stream",
     "text": [
      "   emp_id        emp_name                 hire_date  dept_id  job_id  \\\n",
      "0       1     Harold Vogt 2021-11-07 02:48:42+00:00        2      96   \n",
      "1       2        Ty Hofer 2021-05-30 05:43:46+00:00        8       0   \n",
      "2       3     Lyman Hadye 2021-09-01 23:27:38+00:00        5      52   \n",
      "3       4   Lotti Crowthe 2021-10-01 13:04:21+00:00       12      71   \n",
      "4       5  Gretna Lording 2021-10-10 22:22:17+00:00        6      80   \n",
      "\n",
      "                      job_title        dept_name  hire_year  \\\n",
      "0              Health Coach III            Sales     2021.0   \n",
      "1                     Not Found          Support     2021.0   \n",
      "2  Structural Analysis Engineer      Engineering     2021.0   \n",
      "3               Statistician II       Accounting     2021.0   \n",
      "4              Quality Engineer  Human Resources     2021.0   \n",
      "\n",
      "                    hire_dd  hire_qq  hire_yy  hire_mm  hire_period  \n",
      "0 2021-11-07 02:48:42+00:00      4.0   2021.0     11.0     202111.0  \n",
      "1 2021-05-30 05:43:46+00:00      2.0   2021.0      5.0     202105.0  \n",
      "2 2021-09-01 23:27:38+00:00      3.0   2021.0      9.0     202109.0  \n",
      "3 2021-10-01 13:04:21+00:00      4.0   2021.0     10.0     202110.0  \n",
      "4 2021-10-10 22:22:17+00:00      4.0   2021.0     10.0     202110.0  \n"
     ]
    }
   ],
   "source": [
    "# Step 6: Calculate the Date columns\n",
    "\n",
    "df_merged['hire_dd'] = pd.to_datetime(df_merged['hire_date'], errors='coerce')\n",
    "\n",
    "df_merged['hire_qq'] = df_merged['hire_dd'].dt.quarter\n",
    "df_merged['hire_yy'] = df_merged['hire_dd'].dt.year\n",
    "df_merged['hire_mm'] = df_merged['hire_dd'].dt.month\n",
    "\n",
    "df_merged['hire_period'] = df_merged['hire_yy'] * 100 + df_merged['hire_mm']\n",
    "\n",
    "# Show first 5 rows\n",
    "print(df_merged.head())"
   ]
  },
  {
   "cell_type": "code",
   "execution_count": 37,
   "id": "82d0064c-dcf0-43da-9946-b9ee1ba748b0",
   "metadata": {},
   "outputs": [
    {
     "name": "stdout",
     "output_type": "stream",
     "text": [
      "                      Q1  Q2  Q3  Q4  total_hired_cases\n",
      "dept_name                                              \n",
      "Support               67  66  59  62                254\n",
      "Human Resources       71  56  48  71                246\n",
      "Engineering           63  47  61  73                244\n",
      "Services              64  67  57  50                238\n",
      "Business Development  59  58  49  53                219\n"
     ]
    }
   ],
   "source": [
    "# Step 7: Pivot the Quarters per Deparment\n",
    "\n",
    "grouped = df_merged.groupby(['dept_name', 'hire_qq'])['emp_id'].count().reset_index(name='total_hired')\n",
    "\n",
    "pivot_df = grouped.pivot(index='dept_name', columns='hire_qq', values='total_hired')\n",
    "\n",
    "pivot_df.columns = [f\"Q{int(c)}\" for c in pivot_df.columns]\n",
    "pivot_df['total_hired_cases'] = pivot_df.sum(axis=1)\n",
    "\n",
    "pivot_df = pivot_df.fillna(0).astype(int)\n",
    "df_pivot_sorted = pivot_df.sort_values(by='total_hired_cases', ascending=False)\n",
    "\n",
    "print(df_pivot_sorted.head(5))"
   ]
  }
 ],
 "metadata": {
  "kernelspec": {
   "display_name": "Python 3 (ipykernel)",
   "language": "python",
   "name": "python3"
  },
  "language_info": {
   "codemirror_mode": {
    "name": "ipython",
    "version": 3
   },
   "file_extension": ".py",
   "mimetype": "text/x-python",
   "name": "python",
   "nbconvert_exporter": "python",
   "pygments_lexer": "ipython3",
   "version": "3.8.10"
  }
 },
 "nbformat": 4,
 "nbformat_minor": 5
}
